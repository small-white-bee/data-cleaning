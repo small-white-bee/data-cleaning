{
 "cells": [
  {
   "cell_type": "code",
   "execution_count": 1,
   "id": "f73d98b9-600d-4992-a501-f986f87b65e4",
   "metadata": {},
   "outputs": [],
   "source": [
    "#当当网2020-2023年图书榜单数据清洗流程\n",
    "#核心功能：\n",
    "# 1.异常值处理 | 2.缺失值填充 | 3.数据去重 | 4.特征工程\n",
    "#导入必要库\n",
    "import pandas as pd\n",
    "import numpy as np"
   ]
  },
  {
   "cell_type": "code",
   "execution_count": 2,
   "id": "c003b35a-249c-4554-b024-c0e69689b9d5",
   "metadata": {},
   "outputs": [
    {
     "name": "stdout",
     "output_type": "stream",
     "text": [
      "<class 'pandas.core.frame.DataFrame'>\n",
      "RangeIndex: 2000 entries, 0 to 1999\n",
      "Data columns (total 12 columns):\n",
      " #   Column  Non-Null Count  Dtype         \n",
      "---  ------  --------------  -----         \n",
      " 0   书名      2000 non-null   object        \n",
      " 1   作者      1997 non-null   object        \n",
      " 2   出版日期    1999 non-null   datetime64[ns]\n",
      " 3   出版社     2000 non-null   object        \n",
      " 4   原价      2000 non-null   float64       \n",
      " 5   售价      2000 non-null   float64       \n",
      " 6   折扣比例    2000 non-null   object        \n",
      " 7   排序      2000 non-null   int64         \n",
      " 8   排行榜类型   2000 non-null   datetime64[ns]\n",
      " 9   推荐值     2000 non-null   float64       \n",
      " 10  电子书价格   693 non-null    float64       \n",
      " 11  评论数     1996 non-null   float64       \n",
      "dtypes: datetime64[ns](2), float64(5), int64(1), object(4)\n",
      "memory usage: 187.6+ KB\n"
     ]
    },
    {
     "data": {
      "text/html": [
       "<div>\n",
       "<style scoped>\n",
       "    .dataframe tbody tr th:only-of-type {\n",
       "        vertical-align: middle;\n",
       "    }\n",
       "\n",
       "    .dataframe tbody tr th {\n",
       "        vertical-align: top;\n",
       "    }\n",
       "\n",
       "    .dataframe thead th {\n",
       "        text-align: right;\n",
       "    }\n",
       "</style>\n",
       "<table border=\"1\" class=\"dataframe\">\n",
       "  <thead>\n",
       "    <tr style=\"text-align: right;\">\n",
       "      <th></th>\n",
       "      <th>出版日期</th>\n",
       "      <th>原价</th>\n",
       "      <th>售价</th>\n",
       "      <th>排序</th>\n",
       "      <th>排行榜类型</th>\n",
       "      <th>推荐值</th>\n",
       "      <th>电子书价格</th>\n",
       "      <th>评论数</th>\n",
       "    </tr>\n",
       "  </thead>\n",
       "  <tbody>\n",
       "    <tr>\n",
       "      <th>count</th>\n",
       "      <td>1999</td>\n",
       "      <td>2000.000000</td>\n",
       "      <td>2000.000000</td>\n",
       "      <td>2000.000000</td>\n",
       "      <td>2000</td>\n",
       "      <td>2000.000000</td>\n",
       "      <td>693.000000</td>\n",
       "      <td>1.996000e+03</td>\n",
       "    </tr>\n",
       "    <tr>\n",
       "      <th>mean</th>\n",
       "      <td>2018-04-20 15:07:39.229614848</td>\n",
       "      <td>61.707300</td>\n",
       "      <td>32.415550</td>\n",
       "      <td>250.500000</td>\n",
       "      <td>2021-07-02 06:00:00.000000256</td>\n",
       "      <td>0.997150</td>\n",
       "      <td>25.323463</td>\n",
       "      <td>3.771247e+05</td>\n",
       "    </tr>\n",
       "    <tr>\n",
       "      <th>min</th>\n",
       "      <td>1982-03-01 00:00:00</td>\n",
       "      <td>14.800000</td>\n",
       "      <td>2.100000</td>\n",
       "      <td>1.000000</td>\n",
       "      <td>2020-01-01 00:00:00</td>\n",
       "      <td>0.000000</td>\n",
       "      <td>0.000000</td>\n",
       "      <td>4.900000e+01</td>\n",
       "    </tr>\n",
       "    <tr>\n",
       "      <th>25%</th>\n",
       "      <td>2017-04-01 00:00:00</td>\n",
       "      <td>29.900000</td>\n",
       "      <td>14.775000</td>\n",
       "      <td>125.750000</td>\n",
       "      <td>2020-10-01 12:00:00</td>\n",
       "      <td>0.999000</td>\n",
       "      <td>7.990000</td>\n",
       "      <td>1.283530e+05</td>\n",
       "    </tr>\n",
       "    <tr>\n",
       "      <th>50%</th>\n",
       "      <td>2018-12-01 00:00:00</td>\n",
       "      <td>45.000000</td>\n",
       "      <td>24.000000</td>\n",
       "      <td>250.500000</td>\n",
       "      <td>2021-07-02 12:00:00</td>\n",
       "      <td>1.000000</td>\n",
       "      <td>20.990000</td>\n",
       "      <td>2.395670e+05</td>\n",
       "    </tr>\n",
       "    <tr>\n",
       "      <th>75%</th>\n",
       "      <td>2020-07-01 00:00:00</td>\n",
       "      <td>64.000000</td>\n",
       "      <td>35.800000</td>\n",
       "      <td>375.250000</td>\n",
       "      <td>2022-04-02 06:00:00</td>\n",
       "      <td>1.000000</td>\n",
       "      <td>35.400000</td>\n",
       "      <td>4.268780e+05</td>\n",
       "    </tr>\n",
       "    <tr>\n",
       "      <th>max</th>\n",
       "      <td>2023-12-01 00:00:00</td>\n",
       "      <td>828.000000</td>\n",
       "      <td>455.400000</td>\n",
       "      <td>500.000000</td>\n",
       "      <td>2023-01-01 00:00:00</td>\n",
       "      <td>1.000000</td>\n",
       "      <td>405.000000</td>\n",
       "      <td>3.427401e+06</td>\n",
       "    </tr>\n",
       "    <tr>\n",
       "      <th>std</th>\n",
       "      <td>NaN</td>\n",
       "      <td>66.719261</td>\n",
       "      <td>34.713208</td>\n",
       "      <td>144.373376</td>\n",
       "      <td>NaN</td>\n",
       "      <td>0.044796</td>\n",
       "      <td>28.814382</td>\n",
       "      <td>4.221029e+05</td>\n",
       "    </tr>\n",
       "  </tbody>\n",
       "</table>\n",
       "</div>"
      ],
      "text/plain": [
       "                                出版日期           原价           售价           排序  \\\n",
       "count                           1999  2000.000000  2000.000000  2000.000000   \n",
       "mean   2018-04-20 15:07:39.229614848    61.707300    32.415550   250.500000   \n",
       "min              1982-03-01 00:00:00    14.800000     2.100000     1.000000   \n",
       "25%              2017-04-01 00:00:00    29.900000    14.775000   125.750000   \n",
       "50%              2018-12-01 00:00:00    45.000000    24.000000   250.500000   \n",
       "75%              2020-07-01 00:00:00    64.000000    35.800000   375.250000   \n",
       "max              2023-12-01 00:00:00   828.000000   455.400000   500.000000   \n",
       "std                              NaN    66.719261    34.713208   144.373376   \n",
       "\n",
       "                               排行榜类型          推荐值       电子书价格           评论数  \n",
       "count                           2000  2000.000000  693.000000  1.996000e+03  \n",
       "mean   2021-07-02 06:00:00.000000256     0.997150   25.323463  3.771247e+05  \n",
       "min              2020-01-01 00:00:00     0.000000    0.000000  4.900000e+01  \n",
       "25%              2020-10-01 12:00:00     0.999000    7.990000  1.283530e+05  \n",
       "50%              2021-07-02 12:00:00     1.000000   20.990000  2.395670e+05  \n",
       "75%              2022-04-02 06:00:00     1.000000   35.400000  4.268780e+05  \n",
       "max              2023-01-01 00:00:00     1.000000  405.000000  3.427401e+06  \n",
       "std                              NaN     0.044796   28.814382  4.221029e+05  "
      ]
     },
     "execution_count": 2,
     "metadata": {},
     "output_type": "execute_result"
    }
   ],
   "source": [
    "### 1.数据加载与初检\n",
    "df= pd.read_excel('C:\\\\数据分析\\\\data.xlsx')\n",
    "df.head()  #前5行数据\n",
    "df.info()  #查看数据整体信息\n",
    "df.describe()  #查看数据描述"
   ]
  },
  {
   "cell_type": "code",
   "execution_count": 3,
   "id": "2b95f9be-b88a-41dd-b155-a0cb0f4fc20b",
   "metadata": {},
   "outputs": [],
   "source": [
    "### 2.数据清洗\n",
    "# 2.1异常值修正\n",
    "df.loc[df['推荐值'] == 0.0, '推荐值'] = 1.0  #修正无效推荐值"
   ]
  },
  {
   "cell_type": "code",
   "execution_count": 4,
   "id": "4a337ed8-56d2-4ada-b736-d3e91fcd008c",
   "metadata": {},
   "outputs": [
    {
     "data": {
      "text/plain": [
       "书名          0\n",
       "作者          3\n",
       "出版日期        1\n",
       "出版社         0\n",
       "原价          0\n",
       "售价          0\n",
       "折扣比例        0\n",
       "排序          0\n",
       "排行榜类型       0\n",
       "推荐值         0\n",
       "电子书价格    1307\n",
       "评论数         4\n",
       "dtype: int64"
      ]
     },
     "execution_count": 4,
     "metadata": {},
     "output_type": "execute_result"
    }
   ],
   "source": [
    "# 2.2缺失值处理\n",
    "df.isnull().sum()  #检查各变量中缺失值的数量"
   ]
  },
  {
   "cell_type": "code",
   "execution_count": 5,
   "id": "18380282-6469-41ae-9a95-f6af2f82438a",
   "metadata": {},
   "outputs": [],
   "source": [
    "#删除缺失率>90%的字段\n",
    "df.drop(columns='电子书价格',inplace=True)"
   ]
  },
  {
   "cell_type": "code",
   "execution_count": 6,
   "id": "969408cd-46dc-4abd-b6c6-41e2f61e0f91",
   "metadata": {},
   "outputs": [],
   "source": [
    "#关键字段手工补全 (通过ISBN查询)\n",
    "df.loc[df.isnull().any(axis=1)]  #定位缺失值所在的行\n",
    "df.loc[233,'作者'] = '全国一级建造师执业资格考试用书编写委员会'\n",
    "df.loc[731,'作者'] = '中国共产党简史编写组'\n",
    "df.loc[1908,'作者'] = '伊泽'\n",
    "df.loc[233,'出版日期'] = '2020-05-01'  #处理作者字段的3个缺失值和1个出版日期缺失值"
   ]
  },
  {
   "cell_type": "code",
   "execution_count": 7,
   "id": "b636e0a9-2705-4ac1-8c51-e1c092ef20b6",
   "metadata": {},
   "outputs": [],
   "source": [
    "#数值字段智能填充\n",
    "df['评论数'] = df['评论数'].fillna(df['评论数'].mean())  #处理评论数的4个缺失值，用平均数填充"
   ]
  },
  {
   "cell_type": "code",
   "execution_count": 8,
   "id": "17da7f4d-bdf2-4f3b-8300-9c3c5f96d53b",
   "metadata": {},
   "outputs": [],
   "source": [
    "# 2.3数据去重\n",
    "df.drop_duplicates(inplace = True)"
   ]
  },
  {
   "cell_type": "code",
   "execution_count": 9,
   "id": "408c9837-eca5-4c02-8c9d-8576e6aca8ec",
   "metadata": {},
   "outputs": [],
   "source": [
    "### 3.特征工程\n",
    "# 3.1数据标准化\n",
    "df[['原价','售价']] = df[['原价','售价']].astype(float).round(1)\n",
    "df['折扣比例'] = df['折扣比例'].str.replace('折','').astype(float).round(1)\n",
    "df['推荐值'] = df['推荐值'].astype(float).round(3)\n",
    "df['评论数'] = df['评论数'].astype(int)\n",
    "df['排行榜类型'] = pd.to_datetime(df['排行榜类型']).dt.year  #清理排行榜类型，只保留年份"
   ]
  },
  {
   "cell_type": "code",
   "execution_count": 10,
   "id": "0eae8850-714e-42be-98b1-b70bc177b8c7",
   "metadata": {},
   "outputs": [],
   "source": [
    "# 3.2构建时间维度特征\n",
    "#将排序、排行榜类型替换为2020排名、2021排名、2022排名、2023排名等四个字段\n",
    "years = [2020, 2021, 2022, 2023]\n",
    "for year in years:\n",
    "    df[f'{year}排名'] = np.where(df['排行榜类型'] == year, df['排序'], np.nan)\n",
    "df = df.drop(columns = ['排序','排行榜类型'])"
   ]
  },
  {
   "cell_type": "code",
   "execution_count": 11,
   "id": "9838aa48-716b-4d84-bdea-2a48f6248f37",
   "metadata": {},
   "outputs": [],
   "source": [
    "# 3.3聚合与衍生特征\n",
    "#用书名聚合(取每组第一个非空值)\n",
    "df = df.groupby('书名').first()\n",
    "df[['2020排名','2021排名','2022排名','2023排名']] = df[['2020排名','2021排名','2022排名','2023排名']].fillna(0).astype(int)  #填充NAN值，调整格式\n",
    "#新增字段：上榜次数、平均排名\n",
    "df['上榜次数'] = (df[['2020排名','2021排名','2022排名','2023排名']] !=0).sum(axis=1).astype(int)\n",
    "df['平均排名'] = (df[['2020排名','2021排名','2022排名','2023排名']].sum(axis=1)/df['上榜次数']).astype(float).round(2)"
   ]
  },
  {
   "cell_type": "code",
   "execution_count": 12,
   "id": "d62c088c-2a59-4016-8564-1203e4bd743a",
   "metadata": {},
   "outputs": [
    {
     "name": "stdout",
     "output_type": "stream",
     "text": [
      "<class 'pandas.core.frame.DataFrame'>\n",
      "Index: 1094 entries, 0-3岁专注力训练贴纸书（全6册）幼儿思维逻辑开发游戏书贴贴画邦 to 龙猫（宫崎骏代表作首次授权。吉卜力官方授权唯一简体中文版绘本\n",
      "Data columns (total 14 columns):\n",
      " #   Column  Non-Null Count  Dtype         \n",
      "---  ------  --------------  -----         \n",
      " 0   作者      1094 non-null   object        \n",
      " 1   出版日期    1094 non-null   datetime64[ns]\n",
      " 2   出版社     1094 non-null   object        \n",
      " 3   原价      1094 non-null   float64       \n",
      " 4   售价      1094 non-null   float64       \n",
      " 5   折扣比例    1094 non-null   float64       \n",
      " 6   推荐值     1094 non-null   float64       \n",
      " 7   评论数     1094 non-null   int64         \n",
      " 8   2020排名  1094 non-null   int64         \n",
      " 9   2021排名  1094 non-null   int64         \n",
      " 10  2022排名  1094 non-null   int64         \n",
      " 11  2023排名  1094 non-null   int64         \n",
      " 12  上榜次数    1094 non-null   int64         \n",
      " 13  平均排名    1094 non-null   float64       \n",
      "dtypes: datetime64[ns](1), float64(5), int64(6), object(2)\n",
      "memory usage: 128.2+ KB\n"
     ]
    }
   ],
   "source": [
    "### 4.结构验证与数据导出\n",
    "df.info()\n",
    "df.to_excel('C:\\\\数据分析\\\\data_cleaned.xlsx', index=True)"
   ]
  }
 ],
 "metadata": {
  "kernelspec": {
   "display_name": "Python 3 (ipykernel)",
   "language": "python",
   "name": "python3"
  },
  "language_info": {
   "codemirror_mode": {
    "name": "ipython",
    "version": 3
   },
   "file_extension": ".py",
   "mimetype": "text/x-python",
   "name": "python",
   "nbconvert_exporter": "python",
   "pygments_lexer": "ipython3",
   "version": "3.13.2"
  }
 },
 "nbformat": 4,
 "nbformat_minor": 5
}
